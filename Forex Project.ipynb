{
 "cells": [
  {
   "attachments": {},
   "cell_type": "markdown",
   "metadata": {},
   "source": [
    "# Projet Du Modeles Lineaires :`\"Prediction de La fermeture du marche de Forex\"`\n",
    "\n",
    "* Le modele utilise dans ce projet est `Regression Multiple` offert par le framework `scikit learn` .\n",
    "* Notre but c'est predire la fermeture du marche de `Forex` en se basant sur La regression multiple .\n",
    "\n"
   ]
  },
  {
   "attachments": {},
   "cell_type": "markdown",
   "metadata": {},
   "source": [
    "# Importer Les Bibliotheques necessaires "
   ]
  },
  {
   "cell_type": "code",
   "execution_count": 1,
   "metadata": {},
   "outputs": [
    {
     "name": "stdout",
     "output_type": "stream",
     "text": [
      "Requirement already satisfied: matplotlib in c:\\users\\hp\\anaconda3\\lib\\site-packages (3.7.1)\n",
      "Requirement already satisfied: pyparsing>=2.3.1 in c:\\users\\hp\\anaconda3\\lib\\site-packages (from matplotlib) (3.0.9)\n",
      "Requirement already satisfied: fonttools>=4.22.0 in c:\\users\\hp\\anaconda3\\lib\\site-packages (from matplotlib) (4.39.4)\n",
      "Requirement already satisfied: kiwisolver>=1.0.1 in c:\\users\\hp\\anaconda3\\lib\\site-packages (from matplotlib) (1.4.4)\n",
      "Requirement already satisfied: pillow>=6.2.0 in c:\\users\\hp\\anaconda3\\lib\\site-packages (from matplotlib) (9.4.0)\n",
      "Requirement already satisfied: packaging>=20.0 in c:\\users\\hp\\appdata\\roaming\\python\\python39\\site-packages (from matplotlib) (23.0)\n",
      "Requirement already satisfied: importlib-resources>=3.2.0 in c:\\users\\hp\\anaconda3\\lib\\site-packages (from matplotlib) (5.12.0)\n",
      "Requirement already satisfied: cycler>=0.10 in c:\\users\\hp\\anaconda3\\lib\\site-packages (from matplotlib) (0.11.0)\n",
      "Requirement already satisfied: contourpy>=1.0.1 in c:\\users\\hp\\anaconda3\\lib\\site-packages (from matplotlib) (1.0.7)\n",
      "Requirement already satisfied: python-dateutil>=2.7 in c:\\users\\hp\\appdata\\roaming\\python\\python39\\site-packages (from matplotlib) (2.8.2)\n",
      "Requirement already satisfied: numpy>=1.20 in c:\\users\\hp\\anaconda3\\lib\\site-packages (from matplotlib) (1.24.3)\n",
      "Requirement already satisfied: zipp>=3.1.0 in c:\\users\\hp\\appdata\\roaming\\python\\python39\\site-packages (from importlib-resources>=3.2.0->matplotlib) (3.15.0)\n",
      "Requirement already satisfied: six>=1.5 in c:\\users\\hp\\appdata\\roaming\\python\\python39\\site-packages (from python-dateutil>=2.7->matplotlib) (1.16.0)\n"
     ]
    }
   ],
   "source": [
    "import numpy as np # Numerical Python\n",
    "import pandas as pd # Pour Manipuler notre dataset\n",
    "!pip install matplotlib\n",
    "import matplotlib.pyplot as plt # Bibliotheque de visualisation"
   ]
  },
  {
   "attachments": {},
   "cell_type": "markdown",
   "metadata": {},
   "source": [
    "# Import the dataset "
   ]
  },
  {
   "cell_type": "code",
   "execution_count": 2,
   "metadata": {},
   "outputs": [
    {
     "data": {
      "text/html": [
       "<div>\n",
       "<style scoped>\n",
       "    .dataframe tbody tr th:only-of-type {\n",
       "        vertical-align: middle;\n",
       "    }\n",
       "\n",
       "    .dataframe tbody tr th {\n",
       "        vertical-align: top;\n",
       "    }\n",
       "\n",
       "    .dataframe thead th {\n",
       "        text-align: right;\n",
       "    }\n",
       "</style>\n",
       "<table border=\"1\" class=\"dataframe\">\n",
       "  <thead>\n",
       "    <tr style=\"text-align: right;\">\n",
       "      <th></th>\n",
       "      <th>Time</th>\n",
       "      <th>Open</th>\n",
       "      <th>High</th>\n",
       "      <th>Low</th>\n",
       "      <th>J (Close)</th>\n",
       "      <th>J.1</th>\n",
       "      <th>J.2</th>\n",
       "      <th>J.3</th>\n",
       "      <th>J.4</th>\n",
       "      <th>J.5</th>\n",
       "      <th>J.6</th>\n",
       "      <th>Moy2W</th>\n",
       "      <th>MoyMonth</th>\n",
       "    </tr>\n",
       "  </thead>\n",
       "  <tbody>\n",
       "    <tr>\n",
       "      <th>0</th>\n",
       "      <td>2016-10-26</td>\n",
       "      <td>1.08860</td>\n",
       "      <td>1.09464</td>\n",
       "      <td>1.08744</td>\n",
       "      <td>1.09095</td>\n",
       "      <td>1.08861</td>\n",
       "      <td>1.08729</td>\n",
       "      <td>1.08800</td>\n",
       "      <td>1.08818</td>\n",
       "      <td>1.09293</td>\n",
       "      <td>1.09744</td>\n",
       "      <td>1.095515</td>\n",
       "      <td>1.109079</td>\n",
       "    </tr>\n",
       "    <tr>\n",
       "      <th>1</th>\n",
       "      <td>2016-10-27</td>\n",
       "      <td>1.09095</td>\n",
       "      <td>1.09422</td>\n",
       "      <td>1.08826</td>\n",
       "      <td>1.08970</td>\n",
       "      <td>1.09095</td>\n",
       "      <td>1.08861</td>\n",
       "      <td>1.08729</td>\n",
       "      <td>1.08800</td>\n",
       "      <td>1.08818</td>\n",
       "      <td>1.09293</td>\n",
       "      <td>1.094370</td>\n",
       "      <td>1.108042</td>\n",
       "    </tr>\n",
       "    <tr>\n",
       "      <th>2</th>\n",
       "      <td>2016-10-28</td>\n",
       "      <td>1.08971</td>\n",
       "      <td>1.09917</td>\n",
       "      <td>1.08950</td>\n",
       "      <td>1.09824</td>\n",
       "      <td>1.08970</td>\n",
       "      <td>1.09095</td>\n",
       "      <td>1.08861</td>\n",
       "      <td>1.08729</td>\n",
       "      <td>1.08800</td>\n",
       "      <td>1.08818</td>\n",
       "      <td>1.094171</td>\n",
       "      <td>1.107238</td>\n",
       "    </tr>\n",
       "    <tr>\n",
       "      <th>3</th>\n",
       "      <td>2016-10-30</td>\n",
       "      <td>1.09896</td>\n",
       "      <td>1.09912</td>\n",
       "      <td>1.09756</td>\n",
       "      <td>1.09820</td>\n",
       "      <td>1.09824</td>\n",
       "      <td>1.08970</td>\n",
       "      <td>1.09095</td>\n",
       "      <td>1.08861</td>\n",
       "      <td>1.08729</td>\n",
       "      <td>1.08800</td>\n",
       "      <td>1.093700</td>\n",
       "      <td>1.106387</td>\n",
       "    </tr>\n",
       "    <tr>\n",
       "      <th>4</th>\n",
       "      <td>2016-10-31</td>\n",
       "      <td>1.09821</td>\n",
       "      <td>1.09826</td>\n",
       "      <td>1.09359</td>\n",
       "      <td>1.09706</td>\n",
       "      <td>1.09820</td>\n",
       "      <td>1.09824</td>\n",
       "      <td>1.08970</td>\n",
       "      <td>1.09095</td>\n",
       "      <td>1.08861</td>\n",
       "      <td>1.08729</td>\n",
       "      <td>1.093694</td>\n",
       "      <td>1.105456</td>\n",
       "    </tr>\n",
       "    <tr>\n",
       "      <th>5</th>\n",
       "      <td>2016-11-01</td>\n",
       "      <td>1.09708</td>\n",
       "      <td>1.10690</td>\n",
       "      <td>1.09599</td>\n",
       "      <td>1.10553</td>\n",
       "      <td>1.09706</td>\n",
       "      <td>1.09820</td>\n",
       "      <td>1.09824</td>\n",
       "      <td>1.08970</td>\n",
       "      <td>1.09095</td>\n",
       "      <td>1.08861</td>\n",
       "      <td>1.094334</td>\n",
       "      <td>1.104917</td>\n",
       "    </tr>\n",
       "  </tbody>\n",
       "</table>\n",
       "</div>"
      ],
      "text/plain": [
       "        Time     Open     High      Low  J (Close)      J.1      J.2      J.3  \\\n",
       "0 2016-10-26  1.08860  1.09464  1.08744    1.09095  1.08861  1.08729  1.08800   \n",
       "1 2016-10-27  1.09095  1.09422  1.08826    1.08970  1.09095  1.08861  1.08729   \n",
       "2 2016-10-28  1.08971  1.09917  1.08950    1.09824  1.08970  1.09095  1.08861   \n",
       "3 2016-10-30  1.09896  1.09912  1.09756    1.09820  1.09824  1.08970  1.09095   \n",
       "4 2016-10-31  1.09821  1.09826  1.09359    1.09706  1.09820  1.09824  1.08970   \n",
       "5 2016-11-01  1.09708  1.10690  1.09599    1.10553  1.09706  1.09820  1.09824   \n",
       "\n",
       "       J.4      J.5      J.6     Moy2W  MoyMonth  \n",
       "0  1.08818  1.09293  1.09744  1.095515  1.109079  \n",
       "1  1.08800  1.08818  1.09293  1.094370  1.108042  \n",
       "2  1.08729  1.08800  1.08818  1.094171  1.107238  \n",
       "3  1.08861  1.08729  1.08800  1.093700  1.106387  \n",
       "4  1.09095  1.08861  1.08729  1.093694  1.105456  \n",
       "5  1.08970  1.09095  1.08861  1.094334  1.104917  "
      ]
     },
     "execution_count": 2,
     "metadata": {},
     "output_type": "execute_result"
    }
   ],
   "source": [
    "data = pd.read_excel('mod_lineaires.xlsx')\n",
    "# Afficher Les six premiers lignes du dataset\n",
    "data.head(6)"
   ]
  },
  {
   "cell_type": "code",
   "execution_count": 3,
   "metadata": {},
   "outputs": [
    {
     "data": {
      "text/html": [
       "<div>\n",
       "<style scoped>\n",
       "    .dataframe tbody tr th:only-of-type {\n",
       "        vertical-align: middle;\n",
       "    }\n",
       "\n",
       "    .dataframe tbody tr th {\n",
       "        vertical-align: top;\n",
       "    }\n",
       "\n",
       "    .dataframe thead th {\n",
       "        text-align: right;\n",
       "    }\n",
       "</style>\n",
       "<table border=\"1\" class=\"dataframe\">\n",
       "  <thead>\n",
       "    <tr style=\"text-align: right;\">\n",
       "      <th></th>\n",
       "      <th>Time</th>\n",
       "      <th>Open</th>\n",
       "      <th>High</th>\n",
       "      <th>Low</th>\n",
       "      <th>J (Close)</th>\n",
       "      <th>J.1</th>\n",
       "      <th>J.2</th>\n",
       "      <th>J.3</th>\n",
       "      <th>J.4</th>\n",
       "      <th>J.5</th>\n",
       "      <th>J.6</th>\n",
       "      <th>Moy2W</th>\n",
       "      <th>MoyMonth</th>\n",
       "    </tr>\n",
       "  </thead>\n",
       "  <tbody>\n",
       "    <tr>\n",
       "      <th>count</th>\n",
       "      <td>1237</td>\n",
       "      <td>1237.000000</td>\n",
       "      <td>1237.000000</td>\n",
       "      <td>1237.000000</td>\n",
       "      <td>1237.000000</td>\n",
       "      <td>1237.000000</td>\n",
       "      <td>1237.000000</td>\n",
       "      <td>1237.000000</td>\n",
       "      <td>1237.000000</td>\n",
       "      <td>1237.000000</td>\n",
       "      <td>1237.000000</td>\n",
       "      <td>1237.000000</td>\n",
       "      <td>1237.000000</td>\n",
       "    </tr>\n",
       "    <tr>\n",
       "      <th>mean</th>\n",
       "      <td>2018-10-17 21:37:58.738884352</td>\n",
       "      <td>1.136519</td>\n",
       "      <td>1.139900</td>\n",
       "      <td>1.133266</td>\n",
       "      <td>1.136600</td>\n",
       "      <td>1.136529</td>\n",
       "      <td>1.136456</td>\n",
       "      <td>1.136387</td>\n",
       "      <td>1.136314</td>\n",
       "      <td>1.136250</td>\n",
       "      <td>1.136190</td>\n",
       "      <td>1.136174</td>\n",
       "      <td>1.135759</td>\n",
       "    </tr>\n",
       "    <tr>\n",
       "      <th>min</th>\n",
       "      <td>2016-10-26 00:00:00</td>\n",
       "      <td>1.039070</td>\n",
       "      <td>1.041780</td>\n",
       "      <td>1.034030</td>\n",
       "      <td>1.039060</td>\n",
       "      <td>1.039060</td>\n",
       "      <td>1.039060</td>\n",
       "      <td>1.039060</td>\n",
       "      <td>1.039060</td>\n",
       "      <td>1.039060</td>\n",
       "      <td>1.039060</td>\n",
       "      <td>1.044871</td>\n",
       "      <td>1.050277</td>\n",
       "    </tr>\n",
       "    <tr>\n",
       "      <th>25%</th>\n",
       "      <td>2017-10-22 00:00:00</td>\n",
       "      <td>1.105240</td>\n",
       "      <td>1.108400</td>\n",
       "      <td>1.102230</td>\n",
       "      <td>1.105390</td>\n",
       "      <td>1.105230</td>\n",
       "      <td>1.105150</td>\n",
       "      <td>1.105010</td>\n",
       "      <td>1.104940</td>\n",
       "      <td>1.104900</td>\n",
       "      <td>1.104750</td>\n",
       "      <td>1.104041</td>\n",
       "      <td>1.104485</td>\n",
       "    </tr>\n",
       "    <tr>\n",
       "      <th>50%</th>\n",
       "      <td>2018-10-18 00:00:00</td>\n",
       "      <td>1.131300</td>\n",
       "      <td>1.134430</td>\n",
       "      <td>1.128300</td>\n",
       "      <td>1.131290</td>\n",
       "      <td>1.131260</td>\n",
       "      <td>1.131240</td>\n",
       "      <td>1.131230</td>\n",
       "      <td>1.131210</td>\n",
       "      <td>1.131210</td>\n",
       "      <td>1.131140</td>\n",
       "      <td>1.130425</td>\n",
       "      <td>1.128844</td>\n",
       "    </tr>\n",
       "    <tr>\n",
       "      <th>75%</th>\n",
       "      <td>2019-10-14 00:00:00</td>\n",
       "      <td>1.172710</td>\n",
       "      <td>1.175770</td>\n",
       "      <td>1.168360</td>\n",
       "      <td>1.172990</td>\n",
       "      <td>1.172790</td>\n",
       "      <td>1.172610</td>\n",
       "      <td>1.172320</td>\n",
       "      <td>1.172190</td>\n",
       "      <td>1.172190</td>\n",
       "      <td>1.172190</td>\n",
       "      <td>1.169759</td>\n",
       "      <td>1.169232</td>\n",
       "    </tr>\n",
       "    <tr>\n",
       "      <th>max</th>\n",
       "      <td>2020-10-08 00:00:00</td>\n",
       "      <td>1.251070</td>\n",
       "      <td>1.255530</td>\n",
       "      <td>1.244780</td>\n",
       "      <td>1.251050</td>\n",
       "      <td>1.251050</td>\n",
       "      <td>1.251050</td>\n",
       "      <td>1.251050</td>\n",
       "      <td>1.251050</td>\n",
       "      <td>1.251050</td>\n",
       "      <td>1.251050</td>\n",
       "      <td>1.239915</td>\n",
       "      <td>1.236770</td>\n",
       "    </tr>\n",
       "    <tr>\n",
       "      <th>std</th>\n",
       "      <td>NaN</td>\n",
       "      <td>0.046422</td>\n",
       "      <td>0.046593</td>\n",
       "      <td>0.046283</td>\n",
       "      <td>0.046442</td>\n",
       "      <td>0.046448</td>\n",
       "      <td>0.046455</td>\n",
       "      <td>0.046463</td>\n",
       "      <td>0.046468</td>\n",
       "      <td>0.046473</td>\n",
       "      <td>0.046475</td>\n",
       "      <td>0.045959</td>\n",
       "      <td>0.045396</td>\n",
       "    </tr>\n",
       "  </tbody>\n",
       "</table>\n",
       "</div>"
      ],
      "text/plain": [
       "                                Time         Open         High          Low  \\\n",
       "count                           1237  1237.000000  1237.000000  1237.000000   \n",
       "mean   2018-10-17 21:37:58.738884352     1.136519     1.139900     1.133266   \n",
       "min              2016-10-26 00:00:00     1.039070     1.041780     1.034030   \n",
       "25%              2017-10-22 00:00:00     1.105240     1.108400     1.102230   \n",
       "50%              2018-10-18 00:00:00     1.131300     1.134430     1.128300   \n",
       "75%              2019-10-14 00:00:00     1.172710     1.175770     1.168360   \n",
       "max              2020-10-08 00:00:00     1.251070     1.255530     1.244780   \n",
       "std                              NaN     0.046422     0.046593     0.046283   \n",
       "\n",
       "         J (Close)          J.1          J.2          J.3          J.4  \\\n",
       "count  1237.000000  1237.000000  1237.000000  1237.000000  1237.000000   \n",
       "mean      1.136600     1.136529     1.136456     1.136387     1.136314   \n",
       "min       1.039060     1.039060     1.039060     1.039060     1.039060   \n",
       "25%       1.105390     1.105230     1.105150     1.105010     1.104940   \n",
       "50%       1.131290     1.131260     1.131240     1.131230     1.131210   \n",
       "75%       1.172990     1.172790     1.172610     1.172320     1.172190   \n",
       "max       1.251050     1.251050     1.251050     1.251050     1.251050   \n",
       "std       0.046442     0.046448     0.046455     0.046463     0.046468   \n",
       "\n",
       "               J.5          J.6        Moy2W     MoyMonth  \n",
       "count  1237.000000  1237.000000  1237.000000  1237.000000  \n",
       "mean      1.136250     1.136190     1.136174     1.135759  \n",
       "min       1.039060     1.039060     1.044871     1.050277  \n",
       "25%       1.104900     1.104750     1.104041     1.104485  \n",
       "50%       1.131210     1.131140     1.130425     1.128844  \n",
       "75%       1.172190     1.172190     1.169759     1.169232  \n",
       "max       1.251050     1.251050     1.239915     1.236770  \n",
       "std       0.046473     0.046475     0.045959     0.045396  "
      ]
     },
     "execution_count": 3,
     "metadata": {},
     "output_type": "execute_result"
    }
   ],
   "source": [
    "# Extraire les differentes caracteristiques du dataset\n",
    "data.describe() "
   ]
  },
  {
   "attachments": {},
   "cell_type": "markdown",
   "metadata": {},
   "source": [
    "# Determination des differentes relations entre les  Features "
   ]
  },
  {
   "cell_type": "code",
   "execution_count": 4,
   "metadata": {},
   "outputs": [
    {
     "name": "stderr",
     "output_type": "stream",
     "text": [
      "No artists with labels found to put in legend.  Note that artists whose label start with an underscore are ignored when legend() is called with no argument.\n"
     ]
    },
    {
     "data": {
      "image/png": "[encoded data removed]",
      "text/plain": [
       "<Figure size 640x480 with 1 Axes>"
      ]
     },
     "metadata": {},
     "output_type": "display_data"
    }
   ],
   "source": [
    "# Visualisation de L'ouverture du marche en fonction d'un jour avant\n",
    "x = data['Open']\n",
    "plt.plot(x, data['J.1'])\n",
    "# Ajouter des labels et une légende\n",
    "plt.xlabel('Un Jour Avant')\n",
    "plt.title('Visualisation de L\\'ouverture du marche en fonction d\\'un jour avant')\n",
    "plt.legend()\n",
    "\n",
    "# Afficher le graphique\n",
    "plt.show()"
   ]
  },
  {
   "cell_type": "code",
   "execution_count": 5,
   "metadata": {},
   "outputs": [
    {
     "name": "stderr",
     "output_type": "stream",
     "text": [
      "No artists with labels found to put in legend.  Note that artists whose label start with an underscore are ignored when legend() is called with no argument.\n"
     ]
    },
    {
     "data": {
      "image/png": "[encoded data removed]",
      "text/plain": [
       "<Figure size 640x480 with 1 Axes>"
      ]
     },
     "metadata": {},
     "output_type": "display_data"
    }
   ],
   "source": [
    "# Visualisation de L'ouverture du marche en fonction d'un jour avant\n",
    "x = data['Open']\n",
    "plt.plot(x, data['J (Close)'])\n",
    "# Ajouter des labels et une légende\n",
    "plt.xlabel('La fermeture du marche')\n",
    "plt.title('Visualisation de L\\'ouverture du marche en fonction de sa fermeture')\n",
    "plt.legend()\n",
    "\n",
    "# Afficher le graphique\n",
    "plt.show()"
   ]
  },
  {
   "attachments": {},
   "cell_type": "markdown",
   "metadata": {},
   "source": [
    "# Import `scikit learn` "
   ]
  },
  {
   "cell_type": "code",
   "execution_count": 6,
   "metadata": {},
   "outputs": [
    {
     "name": "stdout",
     "output_type": "stream",
     "text": [
      "Requirement already satisfied: scikit-learn in c:\\users\\hp\\anaconda3\\lib\\site-packages (1.2.2)\n",
      "Requirement already satisfied: threadpoolctl>=2.0.0 in c:\\users\\hp\\anaconda3\\lib\\site-packages (from scikit-learn) (3.1.0)\n",
      "Requirement already satisfied: scipy>=1.3.2 in c:\\users\\hp\\anaconda3\\lib\\site-packages (from scikit-learn) (1.10.1)\n",
      "Requirement already satisfied: numpy>=1.17.3 in c:\\users\\hp\\anaconda3\\lib\\site-packages (from scikit-learn) (1.24.3)\n",
      "Requirement already satisfied: joblib>=1.1.1 in c:\\users\\hp\\anaconda3\\lib\\site-packages (from scikit-learn) (1.2.0)\n"
     ]
    }
   ],
   "source": [
    "!pip install scikit-learn"
   ]
  },
  {
   "cell_type": "code",
   "execution_count": 7,
   "metadata": {},
   "outputs": [],
   "source": [
    "# importer Linear Regression\n",
    "from sklearn.linear_model import LinearRegression\n",
    "lr = LinearRegression()"
   ]
  },
  {
   "cell_type": "code",
   "execution_count": 8,
   "metadata": {},
   "outputs": [
    {
     "data": {
      "text/html": [
       "<style>#sk-container-id-1 {color: black;background-color: white;}#sk-container-id-1 pre{padding: 0;}#sk-container-id-1 div.sk-toggleable {background-color: white;}#sk-container-id-1 label.sk-toggleable__label {cursor: pointer;display: block;width: 100%;margin-bottom: 0;padding: 0.3em;box-sizing: border-box;text-align: center;}#sk-container-id-1 label.sk-toggleable__label-arrow:before {content: \"▸\";float: left;margin-right: 0.25em;color: #696969;}#sk-container-id-1 label.sk-toggleable__label-arrow:hover:before {color: black;}#sk-container-id-1 div.sk-estimator:hover label.sk-toggleable__label-arrow:before {color: black;}#sk-container-id-1 div.sk-toggleable__content {max-height: 0;max-width: 0;overflow: hidden;text-align: left;background-color: #f0f8ff;}#sk-container-id-1 div.sk-toggleable__content pre {margin: 0.2em;color: black;border-radius: 0.25em;background-color: #f0f8ff;}#sk-container-id-1 input.sk-toggleable__control:checked~div.sk-toggleable__content {max-height: 200px;max-width: 100%;overflow: auto;}#sk-container-id-1 input.sk-toggleable__control:checked~label.sk-toggleable__label-arrow:before {content: \"▾\";}#sk-container-id-1 div.sk-estimator input.sk-toggleable__control:checked~label.sk-toggleable__label {background-color: #d4ebff;}#sk-container-id-1 div.sk-label input.sk-toggleable__control:checked~label.sk-toggleable__label {background-color: #d4ebff;}#sk-container-id-1 input.sk-hidden--visually {border: 0;clip: rect(1px 1px 1px 1px);clip: rect(1px, 1px, 1px, 1px);height: 1px;margin: -1px;overflow: hidden;padding: 0;position: absolute;width: 1px;}#sk-container-id-1 div.sk-estimator {font-family: monospace;background-color: #f0f8ff;border: 1px dotted black;border-radius: 0.25em;box-sizing: border-box;margin-bottom: 0.5em;}#sk-container-id-1 div.sk-estimator:hover {background-color: #d4ebff;}#sk-container-id-1 div.sk-parallel-item::after {content: \"\";width: 100%;border-bottom: 1px solid gray;flex-grow: 1;}#sk-container-id-1 div.sk-label:hover label.sk-toggleable__label {background-color: #d4ebff;}#sk-container-id-1 div.sk-serial::before {content: \"\";position: absolute;border-left: 1px solid gray;box-sizing: border-box;top: 0;bottom: 0;left: 50%;z-index: 0;}#sk-container-id-1 div.sk-serial {display: flex;flex-direction: column;align-items: center;background-color: white;padding-right: 0.2em;padding-left: 0.2em;position: relative;}#sk-container-id-1 div.sk-item {position: relative;z-index: 1;}#sk-container-id-1 div.sk-parallel {display: flex;align-items: stretch;justify-content: center;background-color: white;position: relative;}#sk-container-id-1 div.sk-item::before, #sk-container-id-1 div.sk-parallel-item::before {content: \"\";position: absolute;border-left: 1px solid gray;box-sizing: border-box;top: 0;bottom: 0;left: 50%;z-index: -1;}#sk-container-id-1 div.sk-parallel-item {display: flex;flex-direction: column;z-index: 1;position: relative;background-color: white;}#sk-container-id-1 div.sk-parallel-item:first-child::after {align-self: flex-end;width: 50%;}#sk-container-id-1 div.sk-parallel-item:last-child::after {align-self: flex-start;width: 50%;}#sk-container-id-1 div.sk-parallel-item:only-child::after {width: 0;}#sk-container-id-1 div.sk-dashed-wrapped {border: 1px dashed gray;margin: 0 0.4em 0.5em 0.4em;box-sizing: border-box;padding-bottom: 0.4em;background-color: white;}#sk-container-id-1 div.sk-label label {font-family: monospace;font-weight: bold;display: inline-block;line-height: 1.2em;}#sk-container-id-1 div.sk-label-container {text-align: center;}#sk-container-id-1 div.sk-container {/* jupyter's `normalize.less` sets `[hidden] { display: none; }` but bootstrap.min.css set `[hidden] { display: none !important; }` so we also need the `!important` here to be able to override the default hidden behavior on the sphinx rendered scikit-learn.org. See: https://github.com/scikit-learn/scikit-learn/issues/21755 */display: inline-block !important;position: relative;}#sk-container-id-1 div.sk-text-repr-fallback {display: none;}</style><div id=\"sk-container-id-1\" class=\"sk-top-container\"><div class=\"sk-text-repr-fallback\"><pre>LinearRegression()</pre><b>In a Jupyter environment, please rerun this cell to show the HTML representation or trust the notebook. <br />On GitHub, the HTML representation is unable to render, please try loading this page with nbviewer.org.</b></div><div class=\"sk-container\" hidden><div class=\"sk-item\"><div class=\"sk-estimator sk-toggleable\"><input class=\"sk-toggleable__control sk-hidden--visually\" id=\"sk-estimator-id-1\" type=\"checkbox\" checked><label for=\"sk-estimator-id-1\" class=\"sk-toggleable__label sk-toggleable__label-arrow\">LinearRegression</label><div class=\"sk-toggleable__content\"><pre>LinearRegression()</pre></div></div></div></div></div>"
      ],
      "text/plain": [
       "LinearRegression()"
      ]
     },
     "execution_count": 8,
     "metadata": {},
     "output_type": "execute_result"
    }
   ],
   "source": [
    "# Determiner Les inputs et Les Outputs\n",
    "Inputs = data[['Open','High','Low','J.1','J.2','J.3','J.4','J.5','J.6','Moy2W','MoyMonth']]  \n",
    "Output = data['J (Close)']\n",
    "# importer train_test_split pour diviser le dataset \n",
    "from sklearn.model_selection import train_test_split\n",
    "# Subdiviser Le dataset en donnees d'entrainement (80%) et des donnees de test(20%)\n",
    "X_train, X_test, Y_train, Y_test = train_test_split(Inputs, Output, test_size=0.2) \n",
    "# Appliquer le modele \n",
    "lr.fit(X_train,Y_train)"
   ]
  },
  {
   "cell_type": "code",
   "execution_count": 9,
   "metadata": {},
   "outputs": [
    {
     "name": "stdout",
     "output_type": "stream",
     "text": [
      "Coefficients: [-0.56305418  0.71316907  0.85795642 -0.03518764  0.03561091 -0.02354706\n",
      " -0.00936914 -0.01255407 -0.0114405   0.06555299 -0.01690844]\n",
      "Intercept: 0.0001619449679715057\n"
     ]
    }
   ],
   "source": [
    "# Determination des poids su modele \n",
    "coefficients = lr.coef_\n",
    "intercept = lr.intercept_\n",
    "print(\"Coefficients:\", coefficients)\n",
    "print(\"Intercept:\", intercept)"
   ]
  },
  {
   "attachments": {},
   "cell_type": "markdown",
   "metadata": {},
   "source": [
    "# Model's Accuracy "
   ]
  },
  {
   "cell_type": "code",
   "execution_count": 10,
   "metadata": {},
   "outputs": [
    {
     "name": "stdout",
     "output_type": "stream",
     "text": [
      "R-squared Score: 0.9980189660667682\n"
     ]
    }
   ],
   "source": [
    "from sklearn.metrics import r2_score\n",
    "y_pred = lr.predict(X_test)\n",
    "r2 = r2_score(Y_test, y_pred)\n",
    "print(\"R-squared Score:\", r2)\n"
   ]
  },
  {
   "attachments": {},
   "cell_type": "markdown",
   "metadata": {},
   "source": [
    "# Simpe GUI"
   ]
  },
  {
   "cell_type": "code",
   "execution_count": 17,
   "metadata": {},
   "outputs": [],
   "source": [
    "import tkinter as tk\n",
    "\n",
    "# Create a Tkinter window\n",
    "window = tk.Tk()\n",
    "\n",
    "# Define a function to handle the button click event\n",
    "def predict():\n",
    "    # Get the input values from the entry fields\n",
    "    input_values = []\n",
    "    for entry in entry_fields:\n",
    "        input_values.append(float(entry.get()))\n",
    "\n",
    "    # Make a prediction using the trained model\n",
    "    prediction = lr.predict([input_values])\n",
    "\n",
    "    # Display the prediction in the result label\n",
    "    result_label.config(text=\"Prediction: {:.2f}\".format(prediction[0]))\n",
    "\n",
    "# Create input labels and entry fields\n",
    "input_labels = ['Open','High','Low','Un Jour Avant','Deux Jours Avant','Trois Jours Avant','Quatre Jours Avant','Cinq Jours Avant ','Six Jours Avant','Moyenne 2 semaines','Moyenne d\\'un mois']\n",
    "entry_fields = []\n",
    "for label in input_labels:\n",
    "    label_widget = tk.Label(window, text=label + \":\")\n",
    "    label_widget.pack()\n",
    "    entry_widget = tk.Entry(window)\n",
    "    entry_widget.pack()\n",
    "    entry_fields.append(entry_widget)\n",
    "\n",
    "# Create a predict button\n",
    "button_predict = tk.Button(window, text=\"Predict\", command=predict)\n",
    "button_predict.pack()\n",
    "\n",
    "# Create a label with custom styling\n",
    "label = tk.Label(window, text=\"Bonjour !\", font=(\"Arial\", 16), fg=\"blue\")\n",
    "label.pack(pady=20)\n",
    "def change_label_color():\n",
    "    label.config(fg=\"green\")\n",
    "\n",
    "# Create a result label to display the prediction\n",
    "window.title(\"Forex Close Prediction\")\n",
    "window.geometry(\"200x200\")\n",
    "\n",
    "# Start the Tkinter event loop\n",
    "window.mainloop()"
   ]
  },
  {
   "cell_type": "code",
   "execution_count": null,
   "metadata": {},
   "outputs": [],
   "source": []
  }
 ],
 "metadata": {
  "kernelspec": {
   "display_name": "Python 3",
   "language": "python",
   "name": "python3"
  },
  "language_info": {
   "codemirror_mode": {
    "name": "ipython",
    "version": 3
   },
   "file_extension": ".py",
   "mimetype": "text/x-python",
   "name": "python",
   "nbconvert_exporter": "python",
   "pygments_lexer": "ipython3",
   "version": "3.9.12"
  },
  "orig_nbformat": 4
 },
 "nbformat": 4,
 "nbformat_minor": 2
}
